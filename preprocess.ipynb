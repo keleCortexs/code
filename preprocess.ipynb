{
 "cells": [
  {
   "cell_type": "code",
   "execution_count": 6,
   "metadata": {},
   "outputs": [
    {
     "name": "stderr",
     "output_type": "stream",
     "text": [
      "100%|██████████| 9/9 [00:27<00:00,  3.06s/it]\n"
     ]
    }
   ],
   "source": [
    "import pandas as pd\n",
    "import pickle\n",
    "import numpy as np\n",
    "from sklearn.preprocessing import LabelEncoder\n",
    "from tqdm import tqdm\n",
    "\n",
    "train = pd.read_csv('../input/train.csv', parse_dates = ['activation_date'])\n",
    "test = pd.read_csv('../input/test.csv', parse_dates = ['activation_date'])\n",
    "\n",
    "df_all = pd.concat([train,test],axis=0).reset_index(drop=True)\n",
    "df_all['wday'] = df_all['activation_date'].dt.weekday\n",
    "df_all['price'] = np.log1p(df_all['price'])\n",
    "\n",
    "df_all['param_123'] = (df_all['param_1'].fillna('') + ' ' + df_all['param_2'].fillna('') + ' ' + df_all['param_3'].fillna('')).astype(str)\n",
    "df_all['title'] = df_all['title'].fillna('').astype(str)\n",
    "df_all['text'] = df_all['description'].fillna('').astype(str) + ' ' + df_all['title'].fillna('').astype(str) + ' ' + df_all['param_123'].fillna('').astype(str)\n",
    "\n",
    "text_vars = ['user_id','region', 'city', 'parent_category_name', 'category_name', 'user_type','param_1','param_2','param_3']\n",
    "for col in tqdm(text_vars):\n",
    "    lbl = LabelEncoder()\n",
    "    lbl.fit(df_all[col].values.astype('str'))\n",
    "    df_all[col] = lbl.transform(df_all[col].values.astype('str'))\n",
    "\n",
    "    # for basic model\n",
    "df_all.to_pickle('./data/basic.pkl')\n",
    "\n",
    "# for text feature engineering\n",
    "df_all[['deal_probability','title','param_123','text']].to_pickle('./data/df_text.pkl')"
   ]
  }
 ],
 "metadata": {
  "kernelspec": {
   "display_name": "Python 3",
   "language": "python",
   "name": "python3"
  },
  "language_info": {
   "codemirror_mode": {
    "name": "ipython",
    "version": 3
   },
   "file_extension": ".py",
   "mimetype": "text/x-python",
   "name": "python",
   "nbconvert_exporter": "python",
   "pygments_lexer": "ipython3",
   "version": "3.6.2"
  }
 },
 "nbformat": 4,
 "nbformat_minor": 2
}
